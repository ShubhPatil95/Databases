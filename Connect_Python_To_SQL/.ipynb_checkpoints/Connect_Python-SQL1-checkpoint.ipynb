{
 "cells": [
  {
   "cell_type": "code",
   "execution_count": null,
   "id": "e10506c1",
   "metadata": {},
   "outputs": [],
   "source": [
    "pip install mysql-connector-python"
   ]
  },
  {
   "cell_type": "code",
   "execution_count": 3,
   "id": "79c3a056",
   "metadata": {},
   "outputs": [
    {
     "name": "stdout",
     "output_type": "stream",
     "text": [
      "[('information_schema',), ('mysql',), ('new_schema',), ('performance_schema',), ('sys',)]\n"
     ]
    }
   ],
   "source": [
    "import mysql.connector as connection\n",
    "\n",
    "try:\n",
    "    mydb = connection.connect(host=\"localhost\",user=\"root\",passwd=\"Shubham@123#\",use_pure=True)\n",
    "    ## check if connection is established\n",
    "    \n",
    "    query=\"SHOW DATABASES\"\n",
    "    \n",
    "    cursor= mydb.cursor()\n",
    "    cursor.execute(query)\n",
    "    print(cursor.fetchall())\n",
    "\n",
    "except Exception as e:\n",
    "    mydb.close()\n",
    "    print(e)\n",
    "    "
   ]
  },
  {
   "cell_type": "code",
   "execution_count": 60,
   "id": "33a9835e",
   "metadata": {},
   "outputs": [],
   "source": [
    "import mysql.connector as connection\n",
    "conn=connection.connect(host=\"localhost\",user=\"root\",passwd=\"Shubham@123#\",use_pure=True)"
   ]
  },
  {
   "cell_type": "code",
   "execution_count": 30,
   "id": "7a064349",
   "metadata": {},
   "outputs": [
    {
     "data": {
      "text/plain": [
       "[('information_schema',),\n",
       " ('mysql',),\n",
       " ('new_schema',),\n",
       " ('performance_schema',),\n",
       " ('sys',)]"
      ]
     },
     "execution_count": 30,
     "metadata": {},
     "output_type": "execute_result"
    }
   ],
   "source": [
    "##cursor will help to point out to excecute queries\n",
    "cur=conn.cursor()\n",
    "cur.execute(\"show databases\")\n",
    "response=cur.fetchall() ## this is the same response which we get in mysql workbench after running show database command\n",
    "response"
   ]
  },
  {
   "cell_type": "code",
   "execution_count": 53,
   "id": "c31236ce",
   "metadata": {},
   "outputs": [],
   "source": [
    "cur=conn.cursor()\n",
    "cur.execute(\"CREATE DATABASE FirstDatabase1\")"
   ]
  },
  {
   "cell_type": "code",
   "execution_count": 61,
   "id": "ae5fa18c",
   "metadata": {},
   "outputs": [
    {
     "data": {
      "text/plain": [
       "[('FirstDatabase',),\n",
       " ('FirstDatabase1',),\n",
       " ('information_schema',),\n",
       " ('mydatabase',),\n",
       " ('mysql',),\n",
       " ('new_schema',),\n",
       " ('performance_schema',),\n",
       " ('sys',)]"
      ]
     },
     "execution_count": 61,
     "metadata": {},
     "output_type": "execute_result"
    }
   ],
   "source": [
    "cur=conn.cursor()\n",
    "cur.execute(\"Show Databases\")\n",
    "response=cur.fetchall()\n",
    "response"
   ]
  },
  {
   "cell_type": "markdown",
   "id": "50fcef9b",
   "metadata": {},
   "source": [
    "## Access the databases that we have created now and create table inside that database"
   ]
  },
  {
   "cell_type": "code",
   "execution_count": 63,
   "id": "47c57ee2",
   "metadata": {},
   "outputs": [
    {
     "name": "stdout",
     "output_type": "stream",
     "text": [
      "Table Created\n"
     ]
    }
   ],
   "source": [
    "##Access the databases that we have created now and create table inside that database\n",
    "import mysql.connector as connection\n",
    "\n",
    "try:\n",
    "    mydb = connection.connect(host=\"localhost\",database=\"FirstDatabase\",user=\"root\",passwd=\"Shubham@123#\",use_pure=True)\n",
    "    ## check if connection is established\n",
    "    \n",
    "    query=\"CREATE TABLE StudentDetails (StudentId INT(10) AUTO_INCREMENT PRIMARY KEY, FirstName VARCHAR(60),\" \\\n",
    "          \"LastName VARCHAR(60), RegistrationDate DATE, Class VARCHAR(20),Section VARCHAR(10))\"        \n",
    "    \n",
    "    cursor= mydb.cursor()\n",
    "    cursor.execute(query)\n",
    "    print(\"Table Created\")\n",
    "    mydb.commit()\n",
    "    mydb.close()\n",
    "except Exception as e:\n",
    "    mydb.close()\n",
    "    print(str(e))"
   ]
  },
  {
   "cell_type": "code",
   "execution_count": 78,
   "id": "16c6ae0e",
   "metadata": {},
   "outputs": [],
   "source": [
    "mydb = connection.connect(host=\"localhost\",database=\"FirstDatabase\",user=\"root\",passwd=\"Shubham@123#\",use_pure=True)"
   ]
  },
  {
   "cell_type": "code",
   "execution_count": 74,
   "id": "d837df3b",
   "metadata": {},
   "outputs": [
    {
     "data": {
      "text/plain": [
       "True"
      ]
     },
     "execution_count": 74,
     "metadata": {},
     "output_type": "execute_result"
    }
   ],
   "source": [
    "## To check if connection is proper\n",
    "mydb.is_connected()"
   ]
  },
  {
   "cell_type": "code",
   "execution_count": 80,
   "id": "8d5903f5",
   "metadata": {},
   "outputs": [],
   "source": [
    "## Create A TABLE name FirstTable\n",
    "cur=mydb.cursor()\n",
    "cur.execute(\"create table tablename_test(X1 INT(5), X2 VARCHAR(20), X3 DATE)\")\n",
    "mydb.commit()\n",
    "mydb.close()"
   ]
  },
  {
   "cell_type": "raw",
   "id": "6ad56f2a",
   "metadata": {},
   "source": [
    "# You can run below command to check table in workbench\n",
    "use FirstDatabase;\n",
    "SELECT * FROM FirstTable;"
   ]
  },
  {
   "cell_type": "markdown",
   "id": "1b58ec49",
   "metadata": {},
   "source": [
    "## Insert Value into table that we have created"
   ]
  },
  {
   "cell_type": "code",
   "execution_count": 86,
   "id": "97a02d32",
   "metadata": {},
   "outputs": [
    {
     "name": "stdout",
     "output_type": "stream",
     "text": [
      "Table Created\n"
     ]
    }
   ],
   "source": [
    "##Access the databases that we have created now and create table inside that database\n",
    "import mysql.connector as connection\n",
    "\n",
    "try:\n",
    "    mydb = connection.connect(host=\"localhost\",database=\"FirstDatabase\",user=\"root\",passwd=\"Shubham@123#\",use_pure=True)\n",
    "    ## check if connection is established\n",
    "    \n",
    "    query=\"INSERT INTO StudentDetails VALUES ('1132','Sachin','Kumar','1997-11-11','Eleventh','A')\"\n",
    "    \n",
    "    cursor= mydb.cursor()\n",
    "    cursor.execute(query)\n",
    "    print(\"Table Created\")\n",
    "    mydb.commit()\n",
    "    mydb.close()\n",
    "except Exception as e:\n",
    "    mydb.close()\n",
    "    print(str(e))"
   ]
  },
  {
   "cell_type": "code",
   "execution_count": 87,
   "id": "26f9e543",
   "metadata": {},
   "outputs": [],
   "source": [
    "mydb = connection.connect(host=\"localhost\",database=\"FirstDatabase\",user=\"root\",passwd=\"Shubham@123#\",use_pure=True)"
   ]
  },
  {
   "cell_type": "code",
   "execution_count": 88,
   "id": "101d6ab6",
   "metadata": {},
   "outputs": [],
   "source": [
    "cur=mydb.cursor()\n",
    "cur.execute(\"insert into tablename_test value(123,'TestX2','2021-05-15')\")\n",
    "## but if you will got to workbench you still would not see data inside table\n",
    "'''use FirstDatabase;\n",
    "SELECT * FROM tablename_test;'''"
   ]
  },
  {
   "cell_type": "code",
   "execution_count": 89,
   "id": "38914534",
   "metadata": {},
   "outputs": [],
   "source": [
    "## Hence you should commit and check again if data is inserted into table\n",
    "mydb.commit()"
   ]
  },
  {
   "cell_type": "code",
   "execution_count": 90,
   "id": "07173341",
   "metadata": {},
   "outputs": [],
   "source": [
    "## Insert second rows\n",
    "cur.execute(\"insert into tablename_test value(1234,'Test1X2','2021-06-15')\")\n",
    "mydb.commit()"
   ]
  },
  {
   "cell_type": "code",
   "execution_count": 92,
   "id": "0f82ab47",
   "metadata": {},
   "outputs": [
    {
     "name": "stdout",
     "output_type": "stream",
     "text": [
      "True\n",
      "(1132, 'Sachin', 'Kumar', datetime.date(1997, 11, 11), 'Eleventh', 'A')\n"
     ]
    }
   ],
   "source": [
    "## Fetch data from database\n",
    "##Access the databases that we have created now and create table inside that database\n",
    "import mysql.connector as connection\n",
    "\n",
    "try:\n",
    "    mydb = connection.connect(host=\"localhost\",database=\"FirstDatabase\",user=\"root\",passwd=\"Shubham@123#\",use_pure=True)\n",
    "    ## check if connection is established\n",
    "    print(mydb.is_connected())\n",
    "    query= \"SELECT * FROM StudentDetails\"\n",
    "    \n",
    "    cursor= mydb.cursor()\n",
    "    cursor.execute(query)\n",
    "    for result in cursor.fetchall():\n",
    "        print(result)\n",
    "    mydb.commit()\n",
    "    mydb.close()\n",
    "except Exception as e:\n",
    "    mydb.close()\n",
    "    print(str(e))"
   ]
  },
  {
   "cell_type": "code",
   "execution_count": 94,
   "id": "e521dda5",
   "metadata": {},
   "outputs": [
    {
     "name": "stdout",
     "output_type": "stream",
     "text": [
      "(123, 'TestX2', datetime.date(2021, 5, 15))\n",
      "(1234, 'Test1X2', datetime.date(2021, 6, 15))\n"
     ]
    }
   ],
   "source": [
    "mydb = connection.connect(host=\"localhost\",database=\"FirstDatabase\",user=\"root\",passwd=\"Shubham@123#\",use_pure=True)\n",
    "cur=mydb.cursor()\n",
    "cur.execute(\"SELECT * FROM tablename_test\")\n",
    "\n",
    "for i in cur.fetchall():\n",
    "    print(i)"
   ]
  },
  {
   "cell_type": "code",
   "execution_count": 95,
   "id": "a368c976",
   "metadata": {},
   "outputs": [
    {
     "name": "stdout",
     "output_type": "stream",
     "text": [
      "(123, 'TestX2')\n",
      "(1234, 'Test1X2')\n"
     ]
    }
   ],
   "source": [
    "## select only 2 columns\n",
    "mydb = connection.connect(host=\"localhost\",database=\"FirstDatabase\",user=\"root\",passwd=\"Shubham@123#\",use_pure=True)\n",
    "cur=mydb.cursor()\n",
    "cur.execute(\"SELECT X1,X2 FROM tablename_test\")\n",
    "\n",
    "for i in cur.fetchall():\n",
    "    print(i)\n",
    "mydb.close()"
   ]
  },
  {
   "cell_type": "markdown",
   "id": "fc6eb3bc",
   "metadata": {},
   "source": [
    "## Connect SQL With Pandas"
   ]
  },
  {
   "cell_type": "code",
   "execution_count": 98,
   "id": "82e3c2b4",
   "metadata": {},
   "outputs": [
    {
     "data": {
      "text/plain": [
       "True"
      ]
     },
     "execution_count": 98,
     "metadata": {},
     "output_type": "execute_result"
    }
   ],
   "source": [
    "import pandas as pd\n",
    "mydb = connection.connect(host=\"localhost\",database=\"FirstDatabase\",user=\"root\",passwd=\"Shubham@123#\",use_pure=True)\n",
    "mydb.is_connected()"
   ]
  },
  {
   "cell_type": "code",
   "execution_count": 101,
   "id": "c14aa0c1",
   "metadata": {},
   "outputs": [
    {
     "data": {
      "text/html": [
       "<div>\n",
       "<style scoped>\n",
       "    .dataframe tbody tr th:only-of-type {\n",
       "        vertical-align: middle;\n",
       "    }\n",
       "\n",
       "    .dataframe tbody tr th {\n",
       "        vertical-align: top;\n",
       "    }\n",
       "\n",
       "    .dataframe thead th {\n",
       "        text-align: right;\n",
       "    }\n",
       "</style>\n",
       "<table border=\"1\" class=\"dataframe\">\n",
       "  <thead>\n",
       "    <tr style=\"text-align: right;\">\n",
       "      <th></th>\n",
       "      <th>StudentId</th>\n",
       "      <th>FirstName</th>\n",
       "      <th>LastName</th>\n",
       "      <th>RegistrationDate</th>\n",
       "      <th>Class</th>\n",
       "      <th>Section</th>\n",
       "    </tr>\n",
       "  </thead>\n",
       "  <tbody>\n",
       "    <tr>\n",
       "      <th>0</th>\n",
       "      <td>1132</td>\n",
       "      <td>Sachin</td>\n",
       "      <td>Kumar</td>\n",
       "      <td>1997-11-11</td>\n",
       "      <td>Eleventh</td>\n",
       "      <td>A</td>\n",
       "    </tr>\n",
       "  </tbody>\n",
       "</table>\n",
       "</div>"
      ],
      "text/plain": [
       "   StudentId FirstName LastName RegistrationDate     Class Section\n",
       "0       1132    Sachin    Kumar       1997-11-11  Eleventh       A"
      ]
     },
     "execution_count": 101,
     "metadata": {},
     "output_type": "execute_result"
    }
   ],
   "source": [
    "## READ DATA \n",
    "df=pd.read_sql(\"select * from FirstDatabase.StudentDetails\",mydb)\n",
    "df"
   ]
  },
  {
   "cell_type": "code",
   "execution_count": 116,
   "id": "d39ff0e8",
   "metadata": {},
   "outputs": [
    {
     "data": {
      "text/html": [
       "<div>\n",
       "<style scoped>\n",
       "    .dataframe tbody tr th:only-of-type {\n",
       "        vertical-align: middle;\n",
       "    }\n",
       "\n",
       "    .dataframe tbody tr th {\n",
       "        vertical-align: top;\n",
       "    }\n",
       "\n",
       "    .dataframe thead th {\n",
       "        text-align: right;\n",
       "    }\n",
       "</style>\n",
       "<table border=\"1\" class=\"dataframe\">\n",
       "  <thead>\n",
       "    <tr style=\"text-align: right;\">\n",
       "      <th></th>\n",
       "      <th>X1</th>\n",
       "      <th>X3</th>\n",
       "    </tr>\n",
       "  </thead>\n",
       "  <tbody>\n",
       "    <tr>\n",
       "      <th>0</th>\n",
       "      <td>123</td>\n",
       "      <td>2021-05-15</td>\n",
       "    </tr>\n",
       "    <tr>\n",
       "      <th>1</th>\n",
       "      <td>1234</td>\n",
       "      <td>2021-06-15</td>\n",
       "    </tr>\n",
       "  </tbody>\n",
       "</table>\n",
       "</div>"
      ],
      "text/plain": [
       "     X1          X3\n",
       "0   123  2021-05-15\n",
       "1  1234  2021-06-15"
      ]
     },
     "execution_count": 116,
     "metadata": {},
     "output_type": "execute_result"
    }
   ],
   "source": [
    "df=pd.read_sql(\"select X1,X3 from FirstDatabase.tablename_test\",mydb)\n",
    "df"
   ]
  },
  {
   "cell_type": "code",
   "execution_count": 117,
   "id": "ddd894a5",
   "metadata": {},
   "outputs": [
    {
     "data": {
      "text/html": [
       "<div>\n",
       "<style scoped>\n",
       "    .dataframe tbody tr th:only-of-type {\n",
       "        vertical-align: middle;\n",
       "    }\n",
       "\n",
       "    .dataframe tbody tr th {\n",
       "        vertical-align: top;\n",
       "    }\n",
       "\n",
       "    .dataframe thead th {\n",
       "        text-align: right;\n",
       "    }\n",
       "</style>\n",
       "<table border=\"1\" class=\"dataframe\">\n",
       "  <thead>\n",
       "    <tr style=\"text-align: right;\">\n",
       "      <th></th>\n",
       "      <th>Name</th>\n",
       "      <th>Age</th>\n",
       "      <th>Sex</th>\n",
       "    </tr>\n",
       "  </thead>\n",
       "  <tbody>\n",
       "    <tr>\n",
       "      <th>0</th>\n",
       "      <td>Shubham</td>\n",
       "      <td>26</td>\n",
       "      <td>Male</td>\n",
       "    </tr>\n",
       "    <tr>\n",
       "      <th>1</th>\n",
       "      <td>Pramod</td>\n",
       "      <td>24</td>\n",
       "      <td>Male</td>\n",
       "    </tr>\n",
       "    <tr>\n",
       "      <th>2</th>\n",
       "      <td>Parth</td>\n",
       "      <td>33</td>\n",
       "      <td>Male</td>\n",
       "    </tr>\n",
       "  </tbody>\n",
       "</table>\n",
       "</div>"
      ],
      "text/plain": [
       "      Name  Age   Sex\n",
       "0  Shubham   26  Male\n",
       "1   Pramod   24  Male\n",
       "2    Parth   33  Male"
      ]
     },
     "execution_count": 117,
     "metadata": {},
     "output_type": "execute_result"
    }
   ],
   "source": [
    "Name=[\"Shubham\",\"Pramod\",\"Parth\"]\n",
    "Age=[26, 24, 33]\n",
    "Sex=[\"Male\",\"Male\",\"Male\"]\n",
    "df=pd.DataFrame({\"Name\":Name,\"Age\":Age,\"Sex\":Sex})\n",
    "df.head()"
   ]
  },
  {
   "cell_type": "code",
   "execution_count": 118,
   "id": "8907eee9",
   "metadata": {},
   "outputs": [],
   "source": [
    "df.to_csv(\"EmpData.csv\")\n",
    "df=pd.read_csv(\"EmpData.csv\")"
   ]
  },
  {
   "cell_type": "markdown",
   "id": "723e19fe",
   "metadata": {},
   "source": [
    "#### Write data from csv into sql"
   ]
  },
  {
   "cell_type": "code",
   "execution_count": 151,
   "id": "84c576de",
   "metadata": {},
   "outputs": [],
   "source": [
    "import mysql.connector as connection\n",
    "import pandas as pd\n",
    "import csv"
   ]
  },
  {
   "cell_type": "code",
   "execution_count": 217,
   "id": "8be2118d",
   "metadata": {},
   "outputs": [
    {
     "data": {
      "text/html": [
       "<div>\n",
       "<style scoped>\n",
       "    .dataframe tbody tr th:only-of-type {\n",
       "        vertical-align: middle;\n",
       "    }\n",
       "\n",
       "    .dataframe tbody tr th {\n",
       "        vertical-align: top;\n",
       "    }\n",
       "\n",
       "    .dataframe thead th {\n",
       "        text-align: right;\n",
       "    }\n",
       "</style>\n",
       "<table border=\"1\" class=\"dataframe\">\n",
       "  <thead>\n",
       "    <tr style=\"text-align: right;\">\n",
       "      <th></th>\n",
       "      <th>Name</th>\n",
       "      <th>Age</th>\n",
       "      <th>Sex</th>\n",
       "    </tr>\n",
       "  </thead>\n",
       "  <tbody>\n",
       "    <tr>\n",
       "      <th>0</th>\n",
       "      <td>Shubham</td>\n",
       "      <td>26</td>\n",
       "      <td>Male</td>\n",
       "    </tr>\n",
       "    <tr>\n",
       "      <th>1</th>\n",
       "      <td>Pramod</td>\n",
       "      <td>24</td>\n",
       "      <td>Male</td>\n",
       "    </tr>\n",
       "    <tr>\n",
       "      <th>2</th>\n",
       "      <td>Parth</td>\n",
       "      <td>33</td>\n",
       "      <td>Male</td>\n",
       "    </tr>\n",
       "  </tbody>\n",
       "</table>\n",
       "</div>"
      ],
      "text/plain": [
       "      Name  Age   Sex\n",
       "0  Shubham   26  Male\n",
       "1   Pramod   24  Male\n",
       "2    Parth   33  Male"
      ]
     },
     "execution_count": 217,
     "metadata": {},
     "output_type": "execute_result"
    }
   ],
   "source": [
    "## Create a Dataframe and save into CSV\n",
    "Name=[\"Shubham\",\"Pramod\",\"Parth\"]\n",
    "Age=[26, 24, 33]\n",
    "Sex=[\"Male\",\"Male\",\"Male\"]\n",
    "df=pd.DataFrame({\"Name\":Name,\"Age\":Age,\"Sex\":Sex})\n",
    "df.to_csv(\"EmpData.csv\",index=False,header=False)\n",
    "df=pd.read_csv(\"EmpData.csv\",names=[\"Name\",\"Age\",\"Sex\"])\n",
    "df.head()"
   ]
  },
  {
   "cell_type": "code",
   "execution_count": 207,
   "id": "4f33c408",
   "metadata": {},
   "outputs": [],
   "source": [
    "## Create A Table FirstDatabase.Empdata \n",
    "mydb=connection.connect(host=\"localhost\",user=\"root\",passwd=\"Shubham@123#\",use_pure=True)\n",
    "cur= mydb.cursor()\n",
    "cur.execute(\"create table FirstDatabase.Empdata (Name VARCHAR(10), Age INT(5), Sex VARCHAR(5))\")"
   ]
  },
  {
   "cell_type": "code",
   "execution_count": 208,
   "id": "51749d10",
   "metadata": {},
   "outputs": [],
   "source": [
    "## Read Empdata.csv and push into table Empdata\n",
    "with open(\"EmpData.csv\") as file:\n",
    "    data=csv.reader(file)\n",
    "    for line in data:\n",
    "        cur.execute(\"INSERT INTO FirstDatabase.Empdata VALUES {values}\".format(values=tuple(line)))\n",
    "mydb.commit()\n",
    "mydb.close()"
   ]
  },
  {
   "cell_type": "code",
   "execution_count": 216,
   "id": "483266e8",
   "metadata": {},
   "outputs": [
    {
     "name": "stdout",
     "output_type": "stream",
     "text": [
      "True\n",
      "Table Created\n",
      "Value Inserted\n"
     ]
    }
   ],
   "source": [
    "import mysql.connector as connection\n",
    "\n",
    "try:\n",
    "    mydb = connection.connect(host=\"localhost\",database=\"FirstDatabase1\",user=\"root\",passwd=\"Shubham@123#\",use_pure=True)\n",
    "    ## check if connection is established\n",
    "    print(mydb.is_connected())\n",
    "    query= \"CREATE TABLE IF NOT EXISTS EmployeeData (Name VARCHAR(10), Age INT(5), Sex VARCHAR(5))\"\n",
    "    cursor= mydb.cursor()\n",
    "    cursor.execute(query)\n",
    "    print(\"Table Created\")\n",
    "    \n",
    "    ## read from file\n",
    "    with open(\"EmpData.csv\") as file:\n",
    "        data=csv.reader(file)\n",
    "        for line in data:\n",
    "            cursor.execute(\"INSERT INTO FirstDatabase1.EmployeeData VALUES {values}\".format(values=tuple(line)))\n",
    "        print(\"Value Inserted\")\n",
    "        mydb.commit()\n",
    "        cursor.close()\n",
    "        mydb.close()\n",
    "except Exception as e:\n",
    "    mydb.close()\n",
    "    print(str(e))"
   ]
  },
  {
   "cell_type": "code",
   "execution_count": 222,
   "id": "a982c463",
   "metadata": {},
   "outputs": [
    {
     "name": "stdout",
     "output_type": "stream",
     "text": [
      "True\n",
      "Table Created\n",
      "Value Inserted\n"
     ]
    }
   ],
   "source": [
    "import mysql.connector as connection\n",
    "\n",
    "try:\n",
    "    mydb = connection.connect(host=\"localhost\",database=\"FirstDatabase1\",user=\"root\",passwd=\"Shubham@123#\",use_pure=True)\n",
    "    ## check if connection is established\n",
    "    print(mydb.is_connected())\n",
    "    query= \"CREATE TABLE IF NOT EXISTS EmployeeData1 (Name VARCHAR(10), Age INT(5), Sex VARCHAR(5))\"\n",
    "    cursor= mydb.cursor()\n",
    "    cursor.execute(query)\n",
    "    print(\"Table Created\")\n",
    "    \n",
    "    ## read from file\n",
    "    with open(\"EmpData.csv\") as file:\n",
    "        data=csv.reader(file)\n",
    "        for line in data:\n",
    "            cursor.execute(\"INSERT INTO FirstDatabase1.EmployeeData1 VALUES {values}\".format(values=tuple(line)))\n",
    "        print(\"Value Inserted\")\n",
    "        mydb.commit()\n",
    "        cursor.close()\n",
    "        mydb.close()\n",
    "except Exception as e:\n",
    "    mydb.close()\n",
    "    print(str(e))"
   ]
  },
  {
   "cell_type": "markdown",
   "id": "19a1786b",
   "metadata": {},
   "source": [
    "## Exercise"
   ]
  },
  {
   "cell_type": "code",
   "execution_count": 290,
   "id": "bc04bf50",
   "metadata": {},
   "outputs": [
    {
     "data": {
      "text/html": [
       "<div>\n",
       "<style scoped>\n",
       "    .dataframe tbody tr th:only-of-type {\n",
       "        vertical-align: middle;\n",
       "    }\n",
       "\n",
       "    .dataframe tbody tr th {\n",
       "        vertical-align: top;\n",
       "    }\n",
       "\n",
       "    .dataframe thead th {\n",
       "        text-align: right;\n",
       "    }\n",
       "</style>\n",
       "<table border=\"1\" class=\"dataframe\">\n",
       "  <thead>\n",
       "    <tr style=\"text-align: right;\">\n",
       "      <th></th>\n",
       "      <th>Chiral indice n</th>\n",
       "      <th>Chiral indice m</th>\n",
       "      <th>Initial atomic coordinate u</th>\n",
       "      <th>Initial atomic coordinate v</th>\n",
       "      <th>Initial atomic coordinate w</th>\n",
       "      <th>Calculated atomic coordinates u'</th>\n",
       "      <th>Calculated atomic coordinates v'</th>\n",
       "      <th>Calculated atomic coordinates w'</th>\n",
       "    </tr>\n",
       "  </thead>\n",
       "  <tbody>\n",
       "    <tr>\n",
       "      <th>0</th>\n",
       "      <td>2</td>\n",
       "      <td>1</td>\n",
       "      <td>0,679005</td>\n",
       "      <td>0,701318</td>\n",
       "      <td>0,017033</td>\n",
       "      <td>0,721039</td>\n",
       "      <td>0,730232</td>\n",
       "      <td>0,017014</td>\n",
       "    </tr>\n",
       "    <tr>\n",
       "      <th>1</th>\n",
       "      <td>2</td>\n",
       "      <td>1</td>\n",
       "      <td>0,717298</td>\n",
       "      <td>0,642129</td>\n",
       "      <td>0,231319</td>\n",
       "      <td>0,738414</td>\n",
       "      <td>0,65675</td>\n",
       "      <td>0,232369</td>\n",
       "    </tr>\n",
       "    <tr>\n",
       "      <th>2</th>\n",
       "      <td>2</td>\n",
       "      <td>1</td>\n",
       "      <td>0,489336</td>\n",
       "      <td>0,303751</td>\n",
       "      <td>0,088462</td>\n",
       "      <td>0,477676</td>\n",
       "      <td>0,263221</td>\n",
       "      <td>0,088712</td>\n",
       "    </tr>\n",
       "    <tr>\n",
       "      <th>3</th>\n",
       "      <td>2</td>\n",
       "      <td>1</td>\n",
       "      <td>0,413957</td>\n",
       "      <td>0,632996</td>\n",
       "      <td>0,040843</td>\n",
       "      <td>0,408823</td>\n",
       "      <td>0,657897</td>\n",
       "      <td>0,039796</td>\n",
       "    </tr>\n",
       "    <tr>\n",
       "      <th>4</th>\n",
       "      <td>2</td>\n",
       "      <td>1</td>\n",
       "      <td>0,334292</td>\n",
       "      <td>0,543401</td>\n",
       "      <td>0,15989</td>\n",
       "      <td>0,303349</td>\n",
       "      <td>0,558807</td>\n",
       "      <td>0,157373</td>\n",
       "    </tr>\n",
       "  </tbody>\n",
       "</table>\n",
       "</div>"
      ],
      "text/plain": [
       "   Chiral indice n  Chiral indice m Initial atomic coordinate u  \\\n",
       "0                2                1                    0,679005   \n",
       "1                2                1                    0,717298   \n",
       "2                2                1                    0,489336   \n",
       "3                2                1                    0,413957   \n",
       "4                2                1                    0,334292   \n",
       "\n",
       "  Initial atomic coordinate v Initial atomic coordinate w  \\\n",
       "0                    0,701318                    0,017033   \n",
       "1                    0,642129                    0,231319   \n",
       "2                    0,303751                    0,088462   \n",
       "3                    0,632996                    0,040843   \n",
       "4                    0,543401                     0,15989   \n",
       "\n",
       "  Calculated atomic coordinates u' Calculated atomic coordinates v'  \\\n",
       "0                         0,721039                         0,730232   \n",
       "1                         0,738414                          0,65675   \n",
       "2                         0,477676                         0,263221   \n",
       "3                         0,408823                         0,657897   \n",
       "4                         0,303349                         0,558807   \n",
       "\n",
       "  Calculated atomic coordinates w'  \n",
       "0                         0,017014  \n",
       "1                         0,232369  \n",
       "2                         0,088712  \n",
       "3                         0,039796  \n",
       "4                         0,157373  "
      ]
     },
     "execution_count": 290,
     "metadata": {},
     "output_type": "execute_result"
    }
   ],
   "source": [
    "df=pd.read_csv(\"carbon_nanotubes.csv\",delimiter=\";\")\n",
    "df.head()"
   ]
  },
  {
   "cell_type": "code",
   "execution_count": 284,
   "id": "6491d280",
   "metadata": {},
   "outputs": [],
   "source": [
    "df[\"Initial atomic coordinate u\"]=df[\"Initial atomic coordinate u\"].str.split(\",\",expand=True)[1]"
   ]
  },
  {
   "cell_type": "code",
   "execution_count": 288,
   "id": "e4d0eada",
   "metadata": {},
   "outputs": [],
   "source": [
    "## remove the leading with zeris from all col by comma separated\n",
    "\n",
    "columns=[\"Initial atomic coordinate u\",\"Initial atomic coordinate v\",\"Initial atomic coordinate w\",\"Calculated atomic coordinates u'\",\n",
    "         \"Calculated atomic coordinates v'\",\"Calculated atomic coordinates w'\"]\n",
    "def split_col(df,columns):\n",
    "    for column in columns:\n",
    "        df[column]=df[column].str.split(\",\",expand=True)[1]"
   ]
  },
  {
   "cell_type": "code",
   "execution_count": 291,
   "id": "351ca3a4",
   "metadata": {
    "scrolled": true
   },
   "outputs": [],
   "source": [
    "split_col(df,columns)"
   ]
  },
  {
   "cell_type": "code",
   "execution_count": 294,
   "id": "8cc54cff",
   "metadata": {},
   "outputs": [],
   "source": [
    "for i in columns:\n",
    "    df[i]=pd.to_numeric(df[i])"
   ]
  },
  {
   "cell_type": "code",
   "execution_count": 314,
   "id": "c452a09a",
   "metadata": {},
   "outputs": [
    {
     "data": {
      "text/html": [
       "<div>\n",
       "<style scoped>\n",
       "    .dataframe tbody tr th:only-of-type {\n",
       "        vertical-align: middle;\n",
       "    }\n",
       "\n",
       "    .dataframe tbody tr th {\n",
       "        vertical-align: top;\n",
       "    }\n",
       "\n",
       "    .dataframe thead th {\n",
       "        text-align: right;\n",
       "    }\n",
       "</style>\n",
       "<table border=\"1\" class=\"dataframe\">\n",
       "  <thead>\n",
       "    <tr style=\"text-align: right;\">\n",
       "      <th></th>\n",
       "      <th>Chiral indice n</th>\n",
       "      <th>Chiral indice m</th>\n",
       "      <th>Initial atomic coordinate u</th>\n",
       "      <th>Initial atomic coordinate v</th>\n",
       "      <th>Initial atomic coordinate w</th>\n",
       "      <th>Calculated atomic coordinates u'</th>\n",
       "      <th>Calculated atomic coordinates v'</th>\n",
       "      <th>Calculated atomic coordinates w'</th>\n",
       "    </tr>\n",
       "  </thead>\n",
       "  <tbody>\n",
       "    <tr>\n",
       "      <th>0</th>\n",
       "      <td>2</td>\n",
       "      <td>1</td>\n",
       "      <td>679005</td>\n",
       "      <td>701318</td>\n",
       "      <td>17033</td>\n",
       "      <td>721039</td>\n",
       "      <td>730232</td>\n",
       "      <td>17014.0</td>\n",
       "    </tr>\n",
       "    <tr>\n",
       "      <th>1</th>\n",
       "      <td>2</td>\n",
       "      <td>1</td>\n",
       "      <td>717298</td>\n",
       "      <td>642129</td>\n",
       "      <td>231319</td>\n",
       "      <td>738414</td>\n",
       "      <td>65675</td>\n",
       "      <td>232369.0</td>\n",
       "    </tr>\n",
       "    <tr>\n",
       "      <th>2</th>\n",
       "      <td>2</td>\n",
       "      <td>1</td>\n",
       "      <td>489336</td>\n",
       "      <td>303751</td>\n",
       "      <td>88462</td>\n",
       "      <td>477676</td>\n",
       "      <td>263221</td>\n",
       "      <td>88712.0</td>\n",
       "    </tr>\n",
       "    <tr>\n",
       "      <th>3</th>\n",
       "      <td>2</td>\n",
       "      <td>1</td>\n",
       "      <td>413957</td>\n",
       "      <td>632996</td>\n",
       "      <td>40843</td>\n",
       "      <td>408823</td>\n",
       "      <td>657897</td>\n",
       "      <td>39796.0</td>\n",
       "    </tr>\n",
       "    <tr>\n",
       "      <th>4</th>\n",
       "      <td>2</td>\n",
       "      <td>1</td>\n",
       "      <td>334292</td>\n",
       "      <td>543401</td>\n",
       "      <td>15989</td>\n",
       "      <td>303349</td>\n",
       "      <td>558807</td>\n",
       "      <td>157373.0</td>\n",
       "    </tr>\n",
       "  </tbody>\n",
       "</table>\n",
       "</div>"
      ],
      "text/plain": [
       "   Chiral indice n  Chiral indice m  Initial atomic coordinate u  \\\n",
       "0                2                1                       679005   \n",
       "1                2                1                       717298   \n",
       "2                2                1                       489336   \n",
       "3                2                1                       413957   \n",
       "4                2                1                       334292   \n",
       "\n",
       "   Initial atomic coordinate v  Initial atomic coordinate w  \\\n",
       "0                       701318                        17033   \n",
       "1                       642129                       231319   \n",
       "2                       303751                        88462   \n",
       "3                       632996                        40843   \n",
       "4                       543401                        15989   \n",
       "\n",
       "   Calculated atomic coordinates u'  Calculated atomic coordinates v'  \\\n",
       "0                            721039                            730232   \n",
       "1                            738414                             65675   \n",
       "2                            477676                            263221   \n",
       "3                            408823                            657897   \n",
       "4                            303349                            558807   \n",
       "\n",
       "   Calculated atomic coordinates w'  \n",
       "0                           17014.0  \n",
       "1                          232369.0  \n",
       "2                           88712.0  \n",
       "3                           39796.0  \n",
       "4                          157373.0  "
      ]
     },
     "execution_count": 314,
     "metadata": {},
     "output_type": "execute_result"
    }
   ],
   "source": [
    "df.head()"
   ]
  },
  {
   "cell_type": "code",
   "execution_count": 297,
   "id": "83ec458b",
   "metadata": {},
   "outputs": [],
   "source": [
    "df.to_csv(\"carbon_nanotubes_filtered.csv\",header=False,index=False)"
   ]
  },
  {
   "cell_type": "code",
   "execution_count": 67,
   "id": "14c0dbc8",
   "metadata": {},
   "outputs": [
    {
     "name": "stdout",
     "output_type": "stream",
     "text": [
      "True\n",
      "Table Created\n",
      "Value Inserted\n"
     ]
    }
   ],
   "source": [
    "import mysql.connector as connection\n",
    "\n",
    "try:\n",
    "    mydb = connection.connect(host=\"localhost\",database=\"FirstDatabase1\",user=\"root\",passwd=\"Shubham@123#\",use_pure=True)\n",
    "    ## check if connection is established\n",
    "    print(mydb.is_connected())\n",
    "    query= \"CREATE TABLE IF NOT EXISTS carbon_nanotubes3 (Chiral_indice_n INT(5), Chiral_indice_m INT(5),\" \\\n",
    "           \"Initial_atomic_coordinate_u INT(10), Initial_atomic_coordinate_v INT(10), Initial_atomic_coordinate_w INT(10),\" \\\n",
    "           \"Calculated_atomic_coordinates_u INT(10), Calculated_atomic_coordinates_v INT(10),Calculated_atomic_coordinates_w VARCHAR(10))\"\n",
    "    cursor= mydb.cursor()\n",
    "    cursor.execute(query)\n",
    "    print(\"Table Created\")\n",
    "    \n",
    "    ## read from file\n",
    "    with open(\"carbon_nanotubes_filtered.csv\") as file:\n",
    "        data=csv.reader(file)\n",
    "        for line in data:\n",
    "            cursor.execute(\"INSERT INTO FirstDatabase1.carbon_nanotubes2 VALUES {values}\".format(values=tuple(line)))\n",
    "        print(\"Value Inserted\")\n",
    "        mydb.commit()\n",
    "        cursor.close()\n",
    "        mydb.close()\n",
    "except Exception as e:\n",
    "    mydb.close()\n",
    "    print(str(e))"
   ]
  },
  {
   "cell_type": "markdown",
   "id": "74fc14b3",
   "metadata": {},
   "source": [
    "### Exercise_Second_Approach"
   ]
  },
  {
   "cell_type": "code",
   "execution_count": 40,
   "id": "942862e6",
   "metadata": {},
   "outputs": [],
   "source": [
    "import csv\n",
    "file_in_list=[]\n",
    "\n",
    "with open(\"carbon_nanotubes.csv\") as file:\n",
    "    data=csv.reader(file,delimiter =\"\\n\")\n",
    "    for i in data:\n",
    "        file_in_list.append(i[0].split(\";\"))"
   ]
  },
  {
   "cell_type": "code",
   "execution_count": 42,
   "id": "adc60eae",
   "metadata": {},
   "outputs": [],
   "source": [
    "## write updated data into csv\n",
    "\n",
    "with open(\"carbon_nanotubes_updated.csv\",\"w\",newline=\"\") as file:\n",
    "    data=csv.writer(file)\n",
    "    data.writerows(file_in_list)"
   ]
  },
  {
   "cell_type": "code",
   "execution_count": 30,
   "id": "5cdf82c4",
   "metadata": {
    "scrolled": true
   },
   "outputs": [
    {
     "name": "stdout",
     "output_type": "stream",
     "text": [
      "True\n",
      "Database Created\n"
     ]
    }
   ],
   "source": [
    "# Create A Database\n",
    "\n",
    "import mysql.connector as connection\n",
    "try:\n",
    "    mydb = connection.connect(host=\"localhost\",user=\"root\",passwd=\"Shubham@123#\",use_pure=True)\n",
    "    ## check if connection is established\n",
    "    print(mydb.is_connected())\n",
    "    cursor = mydb.cursor()\n",
    "    query= \"CREATE DATABASE Excercise_\"\n",
    "    cursor.execute(query)\n",
    "    print(\"Database Created\")\n",
    "except Exception as e:\n",
    "    mydb.close()\n",
    "    print(str(e))"
   ]
  },
  {
   "cell_type": "code",
   "execution_count": 34,
   "id": "e9f2d633",
   "metadata": {},
   "outputs": [
    {
     "name": "stdout",
     "output_type": "stream",
     "text": [
      "Table Is Created\n"
     ]
    }
   ],
   "source": [
    "# Create A Table\n",
    "\n",
    "mydb = connection.connect(host=\"localhost\",database=\"Excercise_\",user=\"root\",passwd=\"Shubham@123#\",use_pure=True)\n",
    "cursor = mydb.cursor()\n",
    "query2= \"CREATE TABLE IF NOT EXISTS Excercise_CSV (Chiral_indice_n INT, Chiral_indice_m INT,\" \\\n",
    "           \"Initial_atomic_coordinate_u VARCHAR(20), Initial_atomic_coordinate_v VARCHAR(20), Initial_atomic_coordinate_w VARCHAR(20),\" \\\n",
    "           \"Calculated_atomic_coordinates_u VARCHAR(20), Calculated_atomic_coordinates_v VARCHAR(10),Calculated_atomic_coordinates_w VARCHAR(10))\"    \n",
    "cursor.execute(query2)\n",
    "print(\"Table Is Created\")"
   ]
  },
  {
   "cell_type": "code",
   "execution_count": 59,
   "id": "cbce7c4e",
   "metadata": {},
   "outputs": [],
   "source": [
    "# Insert Data Into Table\n",
    "\n",
    "with open(\"carbon_nanotubes_updated.csv\") as file:\n",
    "    data_csv=csv.reader(file,delimiter=\"\\n\")\n",
    "    next(data_csv)\n",
    "    for j in data_csv:\n",
    "        query =\"INSERT INTO Excercise_.Excercise_CSV values ({});\".format(\",\".join(j))\n",
    "        cursor.execute(query)"
   ]
  },
  {
   "cell_type": "code",
   "execution_count": 66,
   "id": "7fc9e962",
   "metadata": {},
   "outputs": [],
   "source": [
    "## Table looks like\n",
    "mydb.commit()"
   ]
  },
  {
   "attachments": {
    "image.png": {
     "image/png": "[encoded data removed]"
    }
   },
   "cell_type": "markdown",
   "id": "0ed40413",
   "metadata": {},
   "source": [
    "![image.png](attachment:image.png)"
   ]
  }
 ],
 "metadata": {
  "kernelspec": {
   "display_name": "Python 3 (ipykernel)",
   "language": "python",
   "name": "python3"
  },
  "language_info": {
   "codemirror_mode": {
    "name": "ipython",
    "version": 3
   },
   "file_extension": ".py",
   "mimetype": "text/x-python",
   "name": "python",
   "nbconvert_exporter": "python",
   "pygments_lexer": "ipython3",
   "version": "3.8.8"
  }
 },
 "nbformat": 4,
 "nbformat_minor": 5
}
